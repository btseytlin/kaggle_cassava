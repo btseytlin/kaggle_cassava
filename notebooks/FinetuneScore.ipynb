{
 "cells": [
  {
   "cell_type": "code",
   "execution_count": 8,
   "metadata": {},
   "outputs": [],
   "source": [
    "import numpy as np"
   ]
  },
  {
   "cell_type": "code",
   "execution_count": 3,
   "metadata": {},
   "outputs": [
    {
     "name": "stdout",
     "output_type": "stream",
     "text": [
      "2020-12-16 17:33:13,003 - kedro.io.data_catalog - INFO - Loading data from `finetuned_model` (TorchLocalModel)...\n"
     ]
    }
   ],
   "source": [
    "model = context.catalog.load('finetuned_model')"
   ]
  },
  {
   "cell_type": "code",
   "execution_count": 4,
   "metadata": {},
   "outputs": [
    {
     "name": "stdout",
     "output_type": "stream",
     "text": [
      "2020-12-16 17:33:46,057 - kedro.io.data_catalog - INFO - Loading data from `train_images_lmdb` (KedroImageLMDBDataSet)...\n"
     ]
    }
   ],
   "source": [
    "train_images_lmdb = context.catalog.load('train_images_lmdb')"
   ]
  },
  {
   "cell_type": "code",
   "execution_count": 5,
   "metadata": {},
   "outputs": [
    {
     "name": "stdout",
     "output_type": "stream",
     "text": [
      "2020-12-16 17:33:51,731 - kedro.io.data_catalog - INFO - Loading data from `train_labels` (CSVDataSet)...\n"
     ]
    }
   ],
   "source": [
    "train_labels = context.catalog.load('train_labels')"
   ]
  },
  {
   "cell_type": "code",
   "execution_count": 6,
   "metadata": {},
   "outputs": [
    {
     "name": "stdout",
     "output_type": "stream",
     "text": [
      "2020-12-16 17:33:56,763 - kedro.io.data_catalog - INFO - Loading data from `parameters` (MemoryDataSet)...\n"
     ]
    }
   ],
   "source": [
    "parameters = context.catalog.load('parameters')"
   ]
  },
  {
   "cell_type": "code",
   "execution_count": 12,
   "metadata": {},
   "outputs": [
    {
     "name": "stdout",
     "output_type": "stream",
     "text": [
      "2020-12-16 17:34:50,188 - kedro.pipeline.node - INFO - Running node: split_data: split_data([parameters,train_labels]) -> [train_indices,val_indices]\n"
     ]
    }
   ],
   "source": [
    "res = context.pipelines['train'].nodes[0].run({'train_labels': train_labels, 'parameters': parameters})\n",
    "train_indices = np.array(res['train_indices'])\n",
    "val_indices = np.array(res['val_indices'])"
   ]
  },
  {
   "cell_type": "code",
   "execution_count": 9,
   "metadata": {},
   "outputs": [],
   "source": [
    "from cassava.pipelines.train_model.nodes import score_model"
   ]
  },
  {
   "cell_type": "code",
   "execution_count": 13,
   "metadata": {},
   "outputs": [
    {
     "name": "stdout",
     "output_type": "stream",
     "text": [
      "2020-12-16 17:34:52,924 - root - INFO - Scoring model\n"
     ]
    },
    {
     "data": {
      "application/vnd.jupyter.widget-view+json": {
       "model_id": "a26751c0d1144e0f904ae9b7b609821a",
       "version_major": 2,
       "version_minor": 0
      },
      "text/plain": [
       "HBox(children=(HTML(value=''), FloatProgress(value=0.0, max=321.0), HTML(value='')))"
      ]
     },
     "metadata": {},
     "output_type": "display_data"
    },
    {
     "name": "stdout",
     "output_type": "stream",
     "text": [
      "\n",
      "2020-12-16 17:35:03,064 - root - INFO - Validation scores:\n",
      "{'accuracy': 0.6046728971962617, 'f1_score': 0.745261696777663}\n"
     ]
    }
   ],
   "source": [
    "scores, _ = score_model(model, train_images_lmdb, val_indices, parameters)"
   ]
  },
  {
   "cell_type": "code",
   "execution_count": null,
   "metadata": {},
   "outputs": [],
   "source": []
  }
 ],
 "metadata": {
  "kernelspec": {
   "display_name": "cassava",
   "language": "python",
   "name": "python3"
  },
  "language_info": {
   "codemirror_mode": {
    "name": "ipython",
    "version": 3
   },
   "file_extension": ".py",
   "mimetype": "text/x-python",
   "name": "python",
   "nbconvert_exporter": "python",
   "pygments_lexer": "ipython3",
   "version": "3.8.5"
  }
 },
 "nbformat": 4,
 "nbformat_minor": 4
}
